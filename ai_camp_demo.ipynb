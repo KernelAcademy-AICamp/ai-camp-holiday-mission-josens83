{
  "cells": [
    {
      "cell_type": "markdown",
      "metadata": {},
      "source": [
        "# AI Camp Holiday Mission - Jupyter 데모\n",
        "\n",
        "이 노트북은 AI Camp Holiday Mission 프로젝트의 주요 기능들을 시연합니다.\n",
        "\n",
        "## 주요 기능\n",
        "1. 야놀자 리뷰 크롤링\n",
        "2. 리뷰 데이터 전처리\n",
        "3. OpenAI를 활용한 리뷰 요약\n",
        "4. Gradio 웹 인터페이스\n"
      ]
    },
    {
      "cell_type": "markdown",
      "metadata": {},
      "source": [
        "## 1. 필요한 라이브러리 import\n"
      ]
    },
    {
      "cell_type": "code",
      "execution_count": null,
      "metadata": {},
      "outputs": [],
      "source": [
        "import json\n",
        "import os\n",
        "import datetime\n",
        "from dateutil import parser\n",
        "import pandas as pd\n",
        "import matplotlib.pyplot as plt\n",
        "import seaborn as sns\n",
        "from openai import OpenAI\n",
        "import gradio as gr\n",
        "\n",
        "# 한글 폰트 설정\n",
        "plt.rcParams['font.family'] = 'Malgun Gothic'\n",
        "plt.rcParams['axes.unicode_minus'] = False\n"
      ]
    },
    {
      "cell_type": "markdown",
      "metadata": {},
      "source": [
        "## 2. 환경 변수 설정\n",
        "\n",
        "OpenAI API 키를 설정해주세요.\n"
      ]
    },
    {
      "cell_type": "code",
      "execution_count": null,
      "metadata": {},
      "outputs": [],
      "source": [
        "# OpenAI API 키 설정 (실제 키로 교체하세요)\n",
        "os.environ['OPENAI_API_KEY'] = 'your-openai-api-key-here'\n",
        "\n",
        "# 또는 직접 설정\n",
        "# OPENAI_API_KEY = 'your-openai-api-key-here'\n"
      ]
    },
    {
      "cell_type": "markdown",
      "metadata": {},
      "source": [
        "## 3. 리뷰 데이터 로드 및 분석\n"
      ]
    },
    {
      "cell_type": "code",
      "execution_count": null,
      "metadata": {},
      "outputs": [],
      "source": [
        "def load_review_data(file_path):\n",
        "    \"\"\"리뷰 데이터를 로드하는 함수\"\"\"\n",
        "    try:\n",
        "        with open(file_path, 'r', encoding='utf-8') as f:\n",
        "            return json.load(f)\n",
        "    except FileNotFoundError:\n",
        "        print(f\"파일을 찾을 수 없습니다: {file_path}\")\n",
        "        return []\n",
        "\n",
        "# 리뷰 데이터 로드 (예시)\n",
        "review_files = {\n",
        "    '인사동': './res/reviews.json',\n",
        "    '판교': './res/ninetree_pangyo.json',\n",
        "    '용산': './res/ninetree_yongsan.json'\n",
        "}\n",
        "\n",
        "print(\"사용 가능한 리뷰 파일:\")\n",
        "for name, path in review_files.items():\n",
        "    if os.path.exists(path):\n",
        "        print(f\"✓ {name}: {path}\")\n",
        "    else:\n",
        "        print(f\"✗ {name}: {path} (파일 없음)\")\n"
      ]
    },
    {
      "cell_type": "markdown",
      "metadata": {},
      "source": [
        "## 4. 리뷰 데이터 전처리 및 시각화\n"
      ]
    },
    {
      "cell_type": "code",
      "execution_count": null,
      "metadata": {},
      "outputs": [],
      "source": [
        "def analyze_reviews(review_data):\n",
        "    \"\"\"리뷰 데이터를 분석하는 함수\"\"\"\n",
        "    if not review_data:\n",
        "        return None\n",
        "    \n",
        "    df = pd.DataFrame(review_data)\n",
        "    \n",
        "    # 날짜 변환\n",
        "    current_date = datetime.datetime.now()\n",
        "    df['parsed_date'] = df['date'].apply(lambda x: parser.parse(x) if x else current_date)\n",
        "    \n",
        "    # 최근 6개월 필터링\n",
        "    six_months_ago = current_date - datetime.timedelta(days=6*30)\n",
        "    df_recent = df[df['parsed_date'] >= six_months_ago]\n",
        "    \n",
        "    # 긴 리뷰만 필터링 (30자 이상)\n",
        "    df_filtered = df_recent[df_recent['review'].str.len() >= 30]\n",
        "    \n",
        "    return df_filtered\n",
        "\n",
        "# 첫 번째 사용 가능한 파일로 분석\n",
        "for name, path in review_files.items():\n",
        "    if os.path.exists(path):\n",
        "        print(f\"\\n{name} 리뷰 데이터 분석:\")\n",
        "        reviews = load_review_data(path)\n",
        "        df = analyze_reviews(reviews)\n",
        "        \n",
        "        if df is not None and not df.empty:\n",
        "            print(f\"총 리뷰 수: {len(df)}\")\n",
        "            print(f\"평균 별점: {df['stars'].mean():.2f}\")\n",
        "            print(f\"별점 분포:\")\n",
        "            print(df['stars'].value_counts().sort_index())\n",
        "            \n",
        "            # 별점 분포 시각화\n",
        "            plt.figure(figsize=(10, 6))\n",
        "            \n",
        "            plt.subplot(1, 2, 1)\n",
        "            df['stars'].value_counts().sort_index().plot(kind='bar')\n",
        "            plt.title(f'{name} - 별점 분포')\n",
        "            plt.xlabel('별점')\n",
        "            plt.ylabel('리뷰 수')\n",
        "            \n",
        "            plt.subplot(1, 2, 2)\n",
        "            df['review'].str.len().hist(bins=20)\n",
        "            plt.title(f'{name} - 리뷰 길이 분포')\n",
        "            plt.xlabel('리뷰 길이 (문자 수)')\n",
        "            plt.ylabel('빈도')\n",
        "            \n",
        "            plt.tight_layout()\n",
        "            plt.show()\n",
        "            \n",
        "            # 최근 리뷰 몇 개 출력\n",
        "            print(\"\\n최근 리뷰 샘플:\")\n",
        "            for idx, row in df.head(3).iterrows():\n",
        "                print(f\"별점: {row['stars']}, 날짜: {row['date']}\")\n",
        "                print(f\"리뷰: {row['review'][:100]}...\")\n",
        "                print(\"-\" * 50)\n",
        "        break\n"
      ]
    },
    {
      "cell_type": "markdown",
      "metadata": {},
      "source": [
        "## 5. 프로젝트 구조 및 사용법\n"
      ]
    },
    {
      "cell_type": "code",
      "execution_count": null,
      "metadata": {},
      "outputs": [],
      "source": [
        "print(\"AI Camp Holiday Mission 프로젝트 구조:\")\n",
        "print(\"=\" * 50)\n",
        "print(\"📁 프로젝트 루트\")\n",
        "print(\"├── 📄 crawler.py          # 야놀자 리뷰 크롤링\")\n",
        "print(\"├── 📄 demo.py             # Gradio 웹 인터페이스\")\n",
        "print(\"├── 📄 sample_demo.py      # 샘플 데모\")\n",
        "print(\"├── 📄 requirements.txt    # Python 패키지 목록\")\n",
        "print(\"├── 📄 setup_venv.bat      # 가상환경 설정 스크립트\")\n",
        "print(\"├── 📄 ai_camp_demo.ipynb  # 이 Jupyter 노트북\")\n",
        "print(\"├── 📁 venv/               # Python 가상환경\")\n",
        "print(\"└── 📁 res/                # 리뷰 데이터 저장소\")\n",
        "print(\"\")\n",
        "print(\"사용법:\")\n",
        "print(\"1. 가상환경 설정: setup_venv.bat 실행\")\n",
        "print(\"2. 가상환경 활성화: venv\\\\Scripts\\\\activate.bat\")\n",
        "print(\"3. Jupyter 실행: jupyter lab\")\n",
        "print(\"4. Gradio 데모: python demo.py\")\n",
        "print(\"5. 리뷰 크롤링: python crawler.py [숙소명] [URL]\")\n"
      ]
    }
  ],
  "metadata": {
    "language_info": {
      "name": "python"
    }
  },
  "nbformat": 4,
  "nbformat_minor": 2
}
